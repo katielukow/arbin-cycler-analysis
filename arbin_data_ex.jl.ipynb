{
 "cells": [
  {
   "cell_type": "markdown",
   "id": "exterior-story",
   "metadata": {},
   "source": [
    "This notebook will walk through the process needed to import CSV and excel files, filter data frames by row and column and plots the filtered data. "
   ]
  },
  {
   "cell_type": "code",
   "execution_count": null,
   "id": "bulgarian-pitch",
   "metadata": {},
   "outputs": [],
   "source": [
    "import Pkg; \n",
    "using Pkg; \n",
    "Pkg.add([\"CSV\", \"DataFrames\", \"XLSX\", \"Statistics\", \"Plots\"])\n"
   ]
  },
  {
   "cell_type": "code",
   "execution_count": null,
   "id": "technological-parameter",
   "metadata": {},
   "outputs": [],
   "source": [
    "using CSV, DataFrames, XLSX, Statistics, Plots"
   ]
  },
  {
   "cell_type": "markdown",
   "id": "owned-chester",
   "metadata": {},
   "source": [
    "Define file path for data file"
   ]
  },
  {
   "cell_type": "code",
   "execution_count": null,
   "id": "sought-dependence",
   "metadata": {},
   "outputs": [],
   "source": [
    "file_path = \"230320_MBPF_Investigation_25kpa_11_0043_Channel_6_Wb_1.csv\""
   ]
  },
  {
   "cell_type": "markdown",
   "id": "amino-appointment",
   "metadata": {},
   "source": [
    "The following functions will import the data from the Arbin export to a DataFrame to allow ease of manipulation. Ensure the correct import is used based on file type. If .xslx file, a sheet name is required."
   ]
  },
  {
   "cell_type": "code",
   "execution_count": null,
   "id": "static-european",
   "metadata": {},
   "outputs": [],
   "source": [
    "sheet_name = \"n/a\""
   ]
  },
  {
   "cell_type": "code",
   "execution_count": null,
   "id": "double-louisiana",
   "metadata": {},
   "outputs": [],
   "source": [
    "data_import_csv(file) = CSV.read(file, DataFrame)\n",
    "data_import_excel(file, sheet) = DataFrame(XLSX.readtable(file, sheet))"
   ]
  },
  {
   "cell_type": "code",
   "execution_count": null,
   "id": "final-murray",
   "metadata": {
    "scrolled": true
   },
   "outputs": [],
   "source": [
    "data = data_import_csv(file_path)"
   ]
  },
  {
   "cell_type": "markdown",
   "id": "helpful-passion",
   "metadata": {},
   "source": [
    "The names from the DataFrame can then be listed and filtered to only maintain required data."
   ]
  },
  {
   "cell_type": "code",
   "execution_count": null,
   "id": "visible-mercy",
   "metadata": {
    "scrolled": false
   },
   "outputs": [],
   "source": [
    "show(names(data))"
   ]
  },
  {
   "cell_type": "code",
   "execution_count": null,
   "id": "proprietary-scanner",
   "metadata": {
    "scrolled": true
   },
   "outputs": [],
   "source": [
    "data_fil = select(data, \"Date_Time\", \"Test_Time(s)\", \"Step_Index\",\"TC_Counter1\", \"TC_Counter2\", \"Voltage(V)\", \"Current(A)\")"
   ]
  },
  {
   "cell_type": "markdown",
   "id": "middle-reggae",
   "metadata": {},
   "source": [
    "Data can then be filtered to only contain specific step indexes. The following is an example to filter out the HPPC pulse profile. "
   ]
  },
  {
   "cell_type": "code",
   "execution_count": null,
   "id": "composed-nicaragua",
   "metadata": {},
   "outputs": [],
   "source": [
    "steps = [16,17,18,19]"
   ]
  },
  {
   "cell_type": "code",
   "execution_count": null,
   "id": "union-average",
   "metadata": {},
   "outputs": [],
   "source": [
    "hppc_all = filter(row -> row.\"Step_Index\" == steps[1] || row.\"Step_Index\" == steps[2] || row.\"Step_Index\" == steps[3] || row.\"Step_Index\" == steps[4], data_fil)"
   ]
  },
  {
   "cell_type": "markdown",
   "id": "physical-budget",
   "metadata": {},
   "source": [
    "Finally, the data can be filtered to aa specific SOC. Please note that step indexes and the following filter are schedule based, and as such should be adjusted for the specific test protocol that was run. "
   ]
  },
  {
   "cell_type": "code",
   "execution_count": null,
   "id": "square-prompt",
   "metadata": {},
   "outputs": [],
   "source": [
    "soc = 0.8\n",
    "soc_increments = 10"
   ]
  },
  {
   "cell_type": "code",
   "execution_count": null,
   "id": "downtown-kansas",
   "metadata": {},
   "outputs": [],
   "source": [
    "tc1 = (100 - (soc * 100)) / soc_increments # convert soc to TC_Counter1 value"
   ]
  },
  {
   "cell_type": "code",
   "execution_count": null,
   "id": "fluid-threat",
   "metadata": {
    "scrolled": true
   },
   "outputs": [],
   "source": [
    "hppc_80 = filter(row -> row.\"TC_Counter1\" == tc1, hppc_all)"
   ]
  },
  {
   "cell_type": "markdown",
   "id": "based-error",
   "metadata": {},
   "source": [
    "Finally, we can plot the data."
   ]
  },
  {
   "cell_type": "code",
   "execution_count": 1,
   "id": "lightweight-breath",
   "metadata": {},
   "outputs": [
    {
     "ename": "LoadError",
     "evalue": "UndefVarError: hppc_80 not defined",
     "output_type": "error",
     "traceback": [
      "UndefVarError: hppc_80 not defined",
      "",
      "Stacktrace:",
      " [1] top-level scope",
      "   @ In[1]:1"
     ]
    }
   ],
   "source": [
    "plt = plot(hppc_80[5:end, \"Test_Time(s)\"], hppc_80[5:end,\"Voltage(V)\"], xlabel = \"Test Time [s]\", ylabel = \"Voltage [V]\", label = \"80% SOC\")"
   ]
  },
  {
   "cell_type": "code",
   "execution_count": null,
   "id": "infrared-boundary",
   "metadata": {},
   "outputs": [],
   "source": []
  }
 ],
 "metadata": {
  "kernelspec": {
   "display_name": "Julia 1.8.2",
   "language": "julia",
   "name": "julia-1.8"
  },
  "language_info": {
   "file_extension": ".jl",
   "mimetype": "application/julia",
   "name": "julia",
   "version": "1.8.2"
  }
 },
 "nbformat": 4,
 "nbformat_minor": 5
}
